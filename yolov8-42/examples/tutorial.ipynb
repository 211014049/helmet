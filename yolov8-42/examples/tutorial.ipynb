version https://git-lfs.github.com/spec/v1
oid sha256:c585ac7ec28b923d80b923672e3b3129421f0b80c1f7055ea734e5f2ba4200dc
size 36865
